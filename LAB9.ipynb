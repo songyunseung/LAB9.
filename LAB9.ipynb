{
 "cells": [
  {
   "cell_type": "code",
   "execution_count": 7,
   "id": "7686f27b",
   "metadata": {},
   "outputs": [
    {
     "data": {
      "text/plain": [
       "100"
      ]
     },
     "execution_count": 7,
     "metadata": {},
     "output_type": "execute_result"
    }
   ],
   "source": [
    "(200).__sub__(100)"
   ]
  },
  {
   "cell_type": "code",
   "execution_count": 8,
   "id": "75ecc69b",
   "metadata": {},
   "outputs": [
    {
     "data": {
      "text/plain": [
       "20000"
      ]
     },
     "execution_count": 8,
     "metadata": {},
     "output_type": "execute_result"
    }
   ],
   "source": [
    "(200).__mul__(100)"
   ]
  },
  {
   "cell_type": "code",
   "execution_count": 9,
   "id": "d117c4f1",
   "metadata": {},
   "outputs": [
    {
     "data": {
      "text/plain": [
       "2.0"
      ]
     },
     "execution_count": 9,
     "metadata": {},
     "output_type": "execute_result"
    }
   ],
   "source": [
    "(200).__truediv__(100)"
   ]
  },
  {
   "cell_type": "code",
   "execution_count": 10,
   "id": "e2bc18c0",
   "metadata": {},
   "outputs": [
    {
     "data": {
      "text/plain": [
       "40"
      ]
     },
     "execution_count": 10,
     "metadata": {},
     "output_type": "execute_result"
    }
   ],
   "source": [
    "[10,20,30,40].pop()"
   ]
  },
  {
   "cell_type": "code",
   "execution_count": 11,
   "id": "e7e4cd1d",
   "metadata": {},
   "outputs": [
    {
     "data": {
      "text/plain": [
       "['__abs__',\n",
       " '__add__',\n",
       " '__and__',\n",
       " '__bool__',\n",
       " '__ceil__',\n",
       " '__class__',\n",
       " '__delattr__',\n",
       " '__dir__',\n",
       " '__divmod__',\n",
       " '__doc__',\n",
       " '__eq__',\n",
       " '__float__',\n",
       " '__floor__',\n",
       " '__floordiv__',\n",
       " '__format__',\n",
       " '__ge__',\n",
       " '__getattribute__',\n",
       " '__getnewargs__',\n",
       " '__gt__',\n",
       " '__hash__',\n",
       " '__index__',\n",
       " '__init__',\n",
       " '__init_subclass__',\n",
       " '__int__',\n",
       " '__invert__',\n",
       " '__le__',\n",
       " '__lshift__',\n",
       " '__lt__',\n",
       " '__mod__',\n",
       " '__mul__',\n",
       " '__ne__',\n",
       " '__neg__',\n",
       " '__new__',\n",
       " '__or__',\n",
       " '__pos__',\n",
       " '__pow__',\n",
       " '__radd__',\n",
       " '__rand__',\n",
       " '__rdivmod__',\n",
       " '__reduce__',\n",
       " '__reduce_ex__',\n",
       " '__repr__',\n",
       " '__rfloordiv__',\n",
       " '__rlshift__',\n",
       " '__rmod__',\n",
       " '__rmul__',\n",
       " '__ror__',\n",
       " '__round__',\n",
       " '__rpow__',\n",
       " '__rrshift__',\n",
       " '__rshift__',\n",
       " '__rsub__',\n",
       " '__rtruediv__',\n",
       " '__rxor__',\n",
       " '__setattr__',\n",
       " '__sizeof__',\n",
       " '__str__',\n",
       " '__sub__',\n",
       " '__subclasshook__',\n",
       " '__truediv__',\n",
       " '__trunc__',\n",
       " '__xor__',\n",
       " 'as_integer_ratio',\n",
       " 'bit_length',\n",
       " 'conjugate',\n",
       " 'denominator',\n",
       " 'from_bytes',\n",
       " 'imag',\n",
       " 'numerator',\n",
       " 'real',\n",
       " 'to_bytes']"
      ]
     },
     "execution_count": 11,
     "metadata": {},
     "output_type": "execute_result"
    }
   ],
   "source": [
    "dir(int)"
   ]
  },
  {
   "cell_type": "code",
   "execution_count": 12,
   "id": "c38e7c14",
   "metadata": {},
   "outputs": [
    {
     "data": {
      "text/plain": [
       "['__add__',\n",
       " '__class__',\n",
       " '__class_getitem__',\n",
       " '__contains__',\n",
       " '__delattr__',\n",
       " '__delitem__',\n",
       " '__dir__',\n",
       " '__doc__',\n",
       " '__eq__',\n",
       " '__format__',\n",
       " '__ge__',\n",
       " '__getattribute__',\n",
       " '__getitem__',\n",
       " '__gt__',\n",
       " '__hash__',\n",
       " '__iadd__',\n",
       " '__imul__',\n",
       " '__init__',\n",
       " '__init_subclass__',\n",
       " '__iter__',\n",
       " '__le__',\n",
       " '__len__',\n",
       " '__lt__',\n",
       " '__mul__',\n",
       " '__ne__',\n",
       " '__new__',\n",
       " '__reduce__',\n",
       " '__reduce_ex__',\n",
       " '__repr__',\n",
       " '__reversed__',\n",
       " '__rmul__',\n",
       " '__setattr__',\n",
       " '__setitem__',\n",
       " '__sizeof__',\n",
       " '__str__',\n",
       " '__subclasshook__',\n",
       " 'append',\n",
       " 'clear',\n",
       " 'copy',\n",
       " 'count',\n",
       " 'extend',\n",
       " 'index',\n",
       " 'insert',\n",
       " 'pop',\n",
       " 'remove',\n",
       " 'reverse',\n",
       " 'sort']"
      ]
     },
     "execution_count": 12,
     "metadata": {},
     "output_type": "execute_result"
    }
   ],
   "source": [
    "dir(list)"
   ]
  },
  {
   "cell_type": "code",
   "execution_count": 18,
   "id": "14a95fb7",
   "metadata": {},
   "outputs": [
    {
     "name": "stdout",
     "output_type": "stream",
     "text": [
      "멍멍~~\n"
     ]
    }
   ],
   "source": [
    "class Dog:\n",
    "    def bark(self):\n",
    "        print(\"멍멍~~\")\n",
    "my_dog = Dog()\n",
    "my_dog.bark()"
   ]
  },
  {
   "cell_type": "code",
   "execution_count": 20,
   "id": "3023ec33",
   "metadata": {},
   "outputs": [
    {
     "name": "stdout",
     "output_type": "stream",
     "text": [
      "내 이름은 Jindo, 멍멍~~\n"
     ]
    }
   ],
   "source": [
    "class Dog:\n",
    "    def __init__(self,name):\n",
    "        self.name = name\n",
    "    def bark(self):\n",
    "        print(\"내 이름은 {}, 멍멍~~\".format(self.name))\n",
    "my_dog = Dog('Jindo')\n",
    "my_dog.bark()"
   ]
  },
  {
   "cell_type": "code",
   "execution_count": 21,
   "id": "d51ca870",
   "metadata": {},
   "outputs": [
    {
     "name": "stdout",
     "output_type": "stream",
     "text": [
      "Dog(name = Jindo)\n"
     ]
    }
   ],
   "source": [
    "class Dog:\n",
    "    def __init__(self,name):\n",
    "        self.name = name\n",
    "    def __str__(self):\n",
    "        return 'Dog(name = '+self.name+')'\n",
    "my_dog = Dog('Jindo')\n",
    "print(my_dog)"
   ]
  },
  {
   "cell_type": "code",
   "execution_count": 22,
   "id": "ceb79658",
   "metadata": {},
   "outputs": [
    {
     "name": "stdout",
     "output_type": "stream",
     "text": [
      "n is m\n"
     ]
    }
   ],
   "source": [
    "n = 100\n",
    "m = 100\n",
    "if n is m:\n",
    "    print(\"n is m\")\n",
    "else:\n",
    "    print(\"n is not m\")"
   ]
  },
  {
   "cell_type": "code",
   "execution_count": 23,
   "id": "319e9e9c",
   "metadata": {},
   "outputs": [
    {
     "name": "stdout",
     "output_type": "stream",
     "text": [
      "v1 * v2 = (300,800)\n",
      "v1 / v2 = (3.0,2.0)\n"
     ]
    }
   ],
   "source": [
    "class Vector2D:\n",
    "    def __init__(self,x,y):\n",
    "        self.x = x\n",
    "        self.y = y\n",
    "    def __mul__(self,other):\n",
    "        return Vector2D(self.x * other.x, self.y*other.y)\n",
    "    def __truediv__(self,other):\n",
    "        return Vector2D(self.x/other.x, self.y/other.y)\n",
    "    def __str__(self):\n",
    "        return \"({},{})\".format(self.x,self.y)\n",
    "v1 = Vector2D(30,40)\n",
    "v2 = Vector2D(10,20)\n",
    "v3 = v1 * v2\n",
    "v4 = v1 / v2\n",
    "print(\"v1 * v2 = {}\".format(v3))\n",
    "print(\"v1 / v2 = {}\".format(v4))"
   ]
  },
  {
   "cell_type": "code",
   "execution_count": 28,
   "id": "319b9188",
   "metadata": {},
   "outputs": [
    {
     "name": "stdout",
     "output_type": "stream",
     "text": [
      "-v1 = (-10, -20)\n"
     ]
    }
   ],
   "source": [
    "class Vector2D:\n",
    "    def __init__(self,x,y):\n",
    "        self.x = x\n",
    "        self.y = y\n",
    "    def __neg__(self):\n",
    "        return Vector2D(-self.x,-self.y)\n",
    "    def __str__(self):\n",
    "        return \"({}, {})\".format(self.x,self.y)\n",
    "    \n",
    "v1 = Vector2D(10,20)\n",
    "v1 = -v1\n",
    "print(\"-v1 = {}\".format(v1))"
   ]
  },
  {
   "cell_type": "code",
   "execution_count": 31,
   "id": "d9e25dcd",
   "metadata": {},
   "outputs": [
    {
     "name": "stdout",
     "output_type": "stream",
     "text": [
      "{'width': 100, 'height': 200}\n",
      "100\n"
     ]
    }
   ],
   "source": [
    "class Rect:\n",
    "    def __init__(self,width,height):\n",
    "        self.width = width\n",
    "        self.height = height\n",
    "r1 = Rect(100,200)\n",
    "print(r1.__dict__)\n",
    "print(r1.__dict__['width'])"
   ]
  },
  {
   "cell_type": "code",
   "execution_count": 33,
   "id": "0abef42a",
   "metadata": {},
   "outputs": [
    {
     "name": "stdout",
     "output_type": "stream",
     "text": [
      "{'_Rect__width': 100, '_Rect__height': 200}\n",
      "100\n"
     ]
    }
   ],
   "source": [
    "class Rect:\n",
    "    def __init__(self,width,height):\n",
    "        self.__width = width\n",
    "        self.__height = height\n",
    "r1 = Rect(100,200)\n",
    "print(r1.__dict__)\n",
    "print(r1.__dict__['_Rect__width'])"
   ]
  },
  {
   "cell_type": "code",
   "execution_count": 34,
   "id": "b51224a6",
   "metadata": {},
   "outputs": [
    {
     "data": {
      "text/plain": [
       "True"
      ]
     },
     "execution_count": 34,
     "metadata": {},
     "output_type": "execute_result"
    }
   ],
   "source": [
    "a = 100\n",
    "b = a\n",
    "id(a) == id(100)"
   ]
  },
  {
   "cell_type": "code",
   "execution_count": 35,
   "id": "494fe871",
   "metadata": {},
   "outputs": [
    {
     "data": {
      "text/plain": [
       "True"
      ]
     },
     "execution_count": 35,
     "metadata": {},
     "output_type": "execute_result"
    }
   ],
   "source": [
    "id(b) == id(100)"
   ]
  },
  {
   "cell_type": "code",
   "execution_count": 36,
   "id": "5817128f",
   "metadata": {},
   "outputs": [
    {
     "data": {
      "text/plain": [
       "True"
      ]
     },
     "execution_count": 36,
     "metadata": {},
     "output_type": "execute_result"
    }
   ],
   "source": [
    "id(a) == id(b)"
   ]
  },
  {
   "cell_type": "code",
   "execution_count": 37,
   "id": "a122f8f0",
   "metadata": {},
   "outputs": [
    {
     "data": {
      "text/plain": [
       "True"
      ]
     },
     "execution_count": 37,
     "metadata": {},
     "output_type": "execute_result"
    }
   ],
   "source": [
    "a = 200\n",
    "id(a) == id(200)"
   ]
  },
  {
   "cell_type": "code",
   "execution_count": 38,
   "id": "0a26dd1c",
   "metadata": {},
   "outputs": [
    {
     "data": {
      "text/plain": [
       "False"
      ]
     },
     "execution_count": 38,
     "metadata": {},
     "output_type": "execute_result"
    }
   ],
   "source": [
    "id(b) == id(200)"
   ]
  },
  {
   "cell_type": "code",
   "execution_count": 39,
   "id": "329a058c",
   "metadata": {},
   "outputs": [
    {
     "data": {
      "text/plain": [
       "False"
      ]
     },
     "execution_count": 39,
     "metadata": {},
     "output_type": "execute_result"
    }
   ],
   "source": [
    "id(a) == id(b)"
   ]
  },
  {
   "cell_type": "code",
   "execution_count": 7,
   "id": "b556dda3",
   "metadata": {},
   "outputs": [
    {
     "name": "stdout",
     "output_type": "stream",
     "text": [
      "이름은 Mango이고, 나이는 3살 입니다.\n"
     ]
    }
   ],
   "source": [
    "class Dog:\n",
    "    def __init__(self,name,age): #__init__는 인스턴스가 생성될 때 자동으로 호출되기 떄문에 생성자라고 부르기도 한다.\n",
    "        self.name = name\n",
    "        self.age  = age\n",
    "\n",
    "    def __str__(self):\n",
    "        return '이름은 '+self.name+'이고, 나이는 '+str(self.age)+'살 입니다.'\n",
    "my_dog = Dog('Mango',3)\n",
    "print(my_dog)"
   ]
  },
  {
   "cell_type": "code",
   "execution_count": 15,
   "id": "e06c852c",
   "metadata": {},
   "outputs": [
    {
     "name": "stdout",
     "output_type": "stream",
     "text": [
      "c1 =  C(11)\n",
      "\n",
      "c2 =  C(1)\n",
      "c2 =  C(0)\n",
      "c3 =  C(30)\n",
      "c4 =  C(0)\n"
     ]
    }
   ],
   "source": [
    "class Counter:\n",
    "    def __init__(self,number = 0):\n",
    "        self.__number = number\n",
    "    def reset(self):\n",
    "        self.__number  = 0\n",
    "    def inc(self):\n",
    "        self.__number += 1\n",
    "    def dec(self):\n",
    "        self.__number -= 1\n",
    "    def __str__(self):\n",
    "        return 'C({})'.format(self.__number)\n",
    "    def __add__(self,other):\n",
    "        return Counter(self.__number+other.__number)\n",
    "    def __sub__(self,other):\n",
    "        return Counter(self.__number - self.__number)\n",
    "    \n",
    "c1 = Counter(10)\n",
    "c1.inc()\n",
    "print('c1 = ',c1)\n",
    "print()\n",
    "c2 = Counter() #number의 디폴트 매개변수 값이 0 이기에 c2 = 0이 된다\n",
    "c2.inc()\n",
    "c2.inc()\n",
    "c2.dec()\n",
    "print('c2 = ',c2)\n",
    "c2.reset()\n",
    "print('c2 = ',c2)\n",
    "c1 = Counter(10)\n",
    "c2 = Counter(20)\n",
    "c3 = c1 + c2\n",
    "c4 = c1 - c2\n",
    "print('c3 = ',c3)\n",
    "print('c4 = ',c4)"
   ]
  },
  {
   "cell_type": "code",
   "execution_count": 20,
   "id": "901a26ea",
   "metadata": {},
   "outputs": [
    {
     "name": "stdout",
     "output_type": "stream",
     "text": [
      "홍길동님의 계좌 1234-0001의 잔고는 0원입니다.\n",
      "홍길동님의 계좌 1234-0001의 잔고는 2000원입니다.\n",
      "홍길동님의 계좌 1234-0001의 잔고는 1500원입니다.\n",
      "계좌 잔고는 1500원으로 인출 요구 금액 5000원보다 작습니다.\n"
     ]
    }
   ],
   "source": [
    "class BankAccount:\n",
    "    def __init__(self,name,account_num,balance = 0):\n",
    "        self.__name = name\n",
    "        self.__account_num = account_num\n",
    "        self.__balance = balance\n",
    "    def __str__(self):\n",
    "        return '{}님의 계좌 {}의 잔고는 {}원입니다.'.format(self.__name,self.__account_num,self.__balance)\n",
    "    def get_name(self):\n",
    "        return self.__name\n",
    "    def get_account_num(self):\n",
    "        return self.__account_num\n",
    "    def get_balance(self):\n",
    "        return self.__balance\n",
    "    def deposit(self,money):\n",
    "        self.__balance += money\n",
    "    def withdraw(self,money):  #조건문을 활용하여 계좌잔고에 따른 출력값을 다르게 설정하였다\n",
    "        if money > self.__balance:\n",
    "            print(\"계좌 잔고는 {}원으로 인출 요구 금액 {}원보다 작습니다.\".format(self.__balance,money))\n",
    "        else:\n",
    "            self.__balance -= money\n",
    "account1 = BankAccount('홍길동','1234-0001')\n",
    "print(account1)\n",
    "account1.deposit(2000)\n",
    "print(account1)\n",
    "account1.withdraw(500)\n",
    "print(account1)\n",
    "account1.withdraw(5000)\n",
    "\n",
    "            \n",
    "    \n"
   ]
  },
  {
   "cell_type": "code",
   "execution_count": 34,
   "id": "b99d5512",
   "metadata": {},
   "outputs": [
    {
     "name": "stdout",
     "output_type": "stream",
     "text": [
      "이름 : 홍길동, 학번 : 20200012\n",
      "국어성적 : 95, 수학성적 : 90, 과학성적 : 85\n",
      "합계 : 0, 평균 : 0.0\n"
     ]
    }
   ],
   "source": [
    "class Student:\n",
    "    def __init__(self,name,student_id,korean_quiz = 0,math_quiz = 0,science_quiz = 0):\n",
    "        self.__name = name\n",
    "        self.__student_id = student_id\n",
    "        self.__korean_quiz = korean_quiz\n",
    "        self.__math_quiz = math_quiz\n",
    "        self.__science_quiz = science_quiz\n",
    "        self.__total_score = korean_quiz + math_quiz + science_quiz\n",
    "    \n",
    "    def get_name(self):\n",
    "        return self.__name\n",
    "    def get_student_id(self):\n",
    "        return self.__student_id\n",
    "    def get_korean_quiz(self):\n",
    "        return self.__korean_quiz\n",
    "    def get_math_quiz(self):\n",
    "        return self.__math_quiz\n",
    "    def get_science_quiz(self):\n",
    "        return self.__science_quiz\n",
    "    def get_totla_score(self):\n",
    "        return self.__total_score\n",
    "    def get_avg_score(self):\n",
    "        return self.__total_score/3\n",
    "    def set_korean_quiz(self,korean_quiz):\n",
    "        if korean_quiz > 0:\n",
    "            self.__korean_quiz = korean_quiz\n",
    "    def set_math_quiz(self,math_quiz):\n",
    "        if math_quiz > 0:\n",
    "            self.__math_quiz = math_quiz\n",
    "    def set_science_quiz(self,science_quiz):\n",
    "        if science_quiz > 0:\n",
    "            self.__science_quiz = science_quiz\n",
    "    def __str__(self):\n",
    "        return \"이름 : {}, 학번 : {}\\n국어성적 : {}, 수학성적 : {}, 과학성적 : {}\\n합계 : {}, 평균 : {}\".format(self.__name,self.__student_id,self.__korean_quiz,self.__math_quiz,self.__science_quiz,self.__total_score,self.__total_score/3)\n",
    "\n",
    "name = input(\"학생의 이름을 입력하세요 :\")\n",
    "student_id = input(\"학생의 학번을 입력하세요 :\")\n",
    "student = Student(name,student_id)\n",
    "korean_quiz = int(input(\"학생의 국어 성적을 입력하세요 : \"))\n",
    "math_quiz = int(input(\"학생의 수학 성적을 입력하세요 : \"))\n",
    "science_quiz = int(input(\"학생의 과학 성적을 입력하세요 : \"))\n",
    "student.set_korean_quiz(korean_quiz)\n",
    "student.set_math_quiz(math_quiz)\n",
    "student.set_science_quiz(science_quiz)\n",
    "print(student)    "
   ]
  },
  {
   "cell_type": "code",
   "execution_count": 32,
   "id": "1128d989",
   "metadata": {},
   "outputs": [
    {
     "name": "stdout",
     "output_type": "stream",
     "text": [
      "TV가 꺼짐 상태입니다.\n",
      "볼륨 = 5, 채널 = 0\n",
      "볼륨 = 5, 채널 = 200\n",
      "볼륨 = 6, 채널 = 0\n"
     ]
    }
   ],
   "source": [
    "class TV:\n",
    "    MIN_VOLUME = 0\n",
    "    MAX_VOLUME = 20\n",
    "    MIN_CHANNEL = 0\n",
    "    MAX_CHANNEL = 200\n",
    "    def __init__(self,volume = 5, channel = 0, is_on = False):\n",
    "        self.__volume = volume\n",
    "        self.__channel = channel\n",
    "        self.__is_on = is_on\n",
    "    def __str__(self):\n",
    "        if self.__is_on:\n",
    "             return '볼륨 = {}, 채널 = {}'.format(self.__volume,self.__channel)\n",
    "        else:\n",
    "            return 'TV가 꺼짐 상태입니다.'\n",
    "    def toggle_power(self):\n",
    "        if self.__is_on:\n",
    "            self.__is_on = False\n",
    "        else:\n",
    "            self.__is_on = True\n",
    "    def get_channel(self):\n",
    "        return self.__channel\n",
    "    def set_channel(self,channel):\n",
    "        if self.__channel>=0 and self.__channel<=200:\n",
    "            self.__channel = channel\n",
    "        else:\n",
    "            print(\"채널오류\")\n",
    "    def get_volume(self):\n",
    "        return self.__volume\n",
    "    def set_volume(self,volume):\n",
    "        if self.__volume>=0 and self.__volume<=20:\n",
    "            self.__volume = volume\n",
    "        else:\n",
    "            print(\"볼륨오류\")\n",
    "    def volume_up(self):\n",
    "        if self.__volume < TV.MAX_VOLUME:  #인스턴스 변수가 아닌 클래스 변수를 활용하였다\n",
    "            self.__volume += 1\n",
    "    def volume_down(self):\n",
    "        if self.__volume > TV.MIN_VOLUME:\n",
    "            self.__volume -= 1\n",
    "    def channel_up(self):\n",
    "        self.__channel += 1\n",
    "        if self.__channel >= 201:\n",
    "            self.__channel = TV.MIN_CHANNEL\n",
    "    def channel_down(self):\n",
    "        self.__channel -= 1\n",
    "        if self.__channel <= 0:\n",
    "            self.__channel = TV.MAX_CHANNEL\n",
    "    \n",
    "my_tv = TV()\n",
    "print(my_tv)\n",
    "my_tv.toggle_power()\n",
    "print(my_tv)\n",
    "my_tv.set_channel(200)\n",
    "print(my_tv)\n",
    "my_tv.volume_up()\n",
    "my_tv.channel_up()\n",
    "print(my_tv)"
   ]
  },
  {
   "cell_type": "code",
   "execution_count": null,
   "id": "8543d12d",
   "metadata": {},
   "outputs": [],
   "source": []
  }
 ],
 "metadata": {
  "kernelspec": {
   "display_name": "Python 3.10.7 64-bit",
   "language": "python",
   "name": "python3"
  },
  "language_info": {
   "codemirror_mode": {
    "name": "ipython",
    "version": 3
   },
   "file_extension": ".py",
   "mimetype": "text/x-python",
   "name": "python",
   "nbconvert_exporter": "python",
   "pygments_lexer": "ipython3",
   "version": "3.10.7"
  },
  "vscode": {
   "interpreter": {
    "hash": "fb4569285eef3a3450cb62085a5b1e0da4bce0af555edc33dcf29baf3acc1368"
   }
  }
 },
 "nbformat": 4,
 "nbformat_minor": 5
}
